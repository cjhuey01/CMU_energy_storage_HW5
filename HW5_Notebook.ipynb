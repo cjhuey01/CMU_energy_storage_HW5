{
 "cells": [
  {
   "cell_type": "markdown",
   "id": "19da2479",
   "metadata": {},
   "source": [
    "# Homework 5 #"
   ]
  },
  {
   "cell_type": "markdown",
   "id": "dcb0fe8d",
   "metadata": {},
   "source": [
    "Import statements, load NMC graphite parameters"
   ]
  },
  {
   "cell_type": "code",
   "execution_count": 4,
   "id": "1d5b004a",
   "metadata": {},
   "outputs": [],
   "source": [
    "import pybamm\n",
    "import numpy as np\n",
    "import pandas as pd\n",
    "import matplotlib.pyplot as plt\n",
    "%load_ext autoreload\n"
   ]
  },
  {
   "cell_type": "code",
   "execution_count": null,
   "id": "84ce3b52",
   "metadata": {},
   "outputs": [],
   "source": [
    "%autoreload 2\n",
    "\n",
    "from parameters.NMC_graphite_parameters import get_parameter_values\n",
    "\n",
    "parameter_values = get_parameter_values()\n",
    "parameter_values"
   ]
  },
  {
   "cell_type": "markdown",
   "id": "c3ec0c15",
   "metadata": {},
   "source": [
    "Display mission data for chosen aircraft Beta Alia, assign max takeoff and structural mass"
   ]
  },
  {
   "cell_type": "code",
   "execution_count": null,
   "id": "c3e4fb42",
   "metadata": {},
   "outputs": [],
   "source": [
    "import pandas as pd\n",
    "\n",
    "filenames = [\"Lilium_Jet\", \"KH_Heaviside\", \"Joby_5seater\", \"Beta_Alia\", \"Archer_Maker\"]\n",
    "filename = filenames[3]\n",
    "df = pd.read_csv(\"powerprofiles/\" + filename + \".csv\")\n",
    "df"
   ]
  },
  {
   "cell_type": "code",
   "execution_count": 7,
   "id": "710a4300",
   "metadata": {},
   "outputs": [],
   "source": [
    "mtom_beta_alia = 2730 #kg\n",
    "structure_weight_beta_alia = 0.4*mtom_beta_alia"
   ]
  },
  {
   "cell_type": "markdown",
   "id": "68520a19",
   "metadata": {},
   "source": [
    "Part 1"
   ]
  },
  {
   "cell_type": "code",
   "execution_count": null,
   "id": "78559382",
   "metadata": {},
   "outputs": [],
   "source": [
    "# (i) Cell nominal voltage\n",
    "nom_V = 3.63 # V\n",
    "\n",
    "# (ii) Cell nominal capacity\n",
    "nom_E = 18.2 #Wh\n",
    "nom_C = nom_E/nom_V #Ah\n",
    "\n",
    "print(f\"Nominal Voltage (V): {nom_V}\")\n",
    "print(f\"Nominal Capacity (Ah): {nom_C}\")\n",
    "\n",
    "# (iii) Max discharge rate (in A)\n",
    "max_D_current = 7275e-3 # A\n",
    "max_D_rate = 1.5 # C\n",
    "print(f\"Max Discharge Rate (A): {max_D_rate}\")\n",
    "### Max discharge rate is 1.5C, not the current \n",
    "\n",
    "weight = 68e-3 # kg\n",
    "max_V = 4.2\n",
    "spec_P = max_D_current*max_V/weight\n",
    "\n",
    "# (iv) Cell specific energy\n",
    "spec_E = spec_P*2/3/weight\n",
    "print(f\"Specific Energy (Wh/kg): {spec_E}\")\n",
    "\n",
    "# (v) Cell specific power\n",
    "print(f\"Specific Power (W/kg): {spec_P}\")\n",
    "\n",
    "# (vi) Voltage limits of operation\n",
    "min_V = 2.5 \n",
    "print(f\"Minimum Voltage (V): {min_V}\")\n",
    "print(f\"Maximum Voltage (V): {max_V}\")"
   ]
  },
  {
   "cell_type": "code",
   "execution_count": 20,
   "id": "9023634d",
   "metadata": {},
   "outputs": [],
   "source": [
    "from typing import List"
   ]
  },
  {
   "cell_type": "code",
   "execution_count": null,
   "id": "de5f7a20",
   "metadata": {},
   "outputs": [],
   "source": [
    "List[float]"
   ]
  },
  {
   "cell_type": "markdown",
   "id": "522a5497",
   "metadata": {},
   "source": [
    "Part 2"
   ]
  },
  {
   "cell_type": "code",
   "execution_count": null,
   "id": "7e2a4df5",
   "metadata": {},
   "outputs": [],
   "source": [
    "import pandas as pd\n",
    "import numpy as np\n",
    "from scipy.optimize import curve_fit\n",
    "import matplotlib.pyplot as plt\n",
    "\n",
    "# load the file and clean the data\n",
    "file_path_neg = 'C:/Users/hueyf/UMich/CMU_energy_storage_HW5/parameters/graphite_LGM50_ocp_Chen2020.csv'\n",
    "file_path_pos = 'C:/Users/hueyf/UMich/CMU_energy_storage_HW5/parameters/nmc_LGM50_ocp_Chen2020.csv'\n",
    "\n",
    "files = [file_path_neg, file_path_pos]\n",
    "rk_polynomials = []\n",
    "\n",
    "for file_path in files:\n",
    "    data = pd.read_csv(file_path, comment='#', header=None, names=['sto', 'ocp'])\n",
    "    data_cleaned = data.dropna()\n",
    "    data_cleaned = data_cleaned.apply(pd.to_numeric, errors='coerce').dropna()\n",
    "\n",
    "    # RK model with an offset\n",
    "    def rk_model_with_offset(x, offset, *coefficients):\n",
    "        n = len(coefficients)\n",
    "        rk_sum = sum(coefficients[i] * x*(1-x) * (1 - 2*x)**i for i in range(n))\n",
    "        return offset + rk_sum\n",
    "\n",
    "    # Prepare the data for fitting\n",
    "    x_data = data_cleaned['sto'].values  # SOC values\n",
    "    y_data = data_cleaned['ocp'].values  # OCP values\n",
    "\n",
    "    # Function to calculate residuals (Sum of Squared Residuals, SSR)\n",
    "    def calculate_residuals(x: float, y, model, coefficients):\n",
    "        \"\"\"\n",
    "        ArithmeticError\n",
    "\n",
    "        Parameters\n",
    "        x: float\n",
    "\n",
    "        Returns\n",
    "\n",
    "        \"\"\"\n",
    "        y_pred = model(x, *coefficients)\n",
    "        return np.sum((y - y_pred)**2)\n",
    "\n",
    "    # Start with a reduced range for polynomial orders to avoid overfitting\n",
    "    best_fit_reduced = None\n",
    "    best_residuals_reduced = float('inf')\n",
    "    best_order_reduced = 0\n",
    "\n",
    "    # Iterate over polynomial orders \n",
    "    for order in range(5, 11):\n",
    "        initial_guess = [1.0] * (order + 1)  # Include an initial guess for the offset\n",
    "        try:\n",
    "            popt, pcov = curve_fit(rk_model_with_offset, x_data, y_data, p0=initial_guess)\n",
    "            residuals = calculate_residuals(x_data, y_data, rk_model_with_offset, popt)\n",
    "            if residuals < best_residuals_reduced:\n",
    "                best_residuals_reduced = residuals\n",
    "                best_fit_reduced = popt\n",
    "                best_order_reduced = order\n",
    "        except RuntimeError:\n",
    "            continue  # Skip orders that fail to converge\n",
    "\n",
    "    # Generate a smooth curve for the reduced RK fit\n",
    "    x_fit = np.linspace(min(x_data), max(x_data), 500)\n",
    "    y_fit = rk_model_with_offset(x_fit, *best_fit_reduced)\n",
    "\n",
    "    # Plot the data and the reduced RK fit curve\n",
    "    plt.figure(figsize=(8, 5))\n",
    "    plt.scatter(x_data, y_data, label=\"Data\", color=\"blue\", alpha=0.7)\n",
    "    plt.plot(x_fit, y_fit, label=f\"Reduced RK Fit (Order {best_order_reduced})\", color=\"red\")\n",
    "    plt.xlabel(\"State of Charge (SOC)\")\n",
    "    plt.ylabel(\"Open-Circuit Potential (OCP)\")\n",
    "    plt.title(f\"Reduced RK Polynomial Fit to OCP vs. SOC (Order {best_order_reduced})\")\n",
    "    plt.legend()\n",
    "    plt.grid(True)\n",
    "    plt.show()\n",
    "\n",
    "    rk_polynomials.append(best_fit_reduced)\n",
    "\n",
    "print(rk_polynomials)"
   ]
  },
  {
   "cell_type": "markdown",
   "id": "dabe7331",
   "metadata": {},
   "source": [
    "Part 3"
   ]
  },
  {
   "cell_type": "code",
   "execution_count": null,
   "id": "2e80acd0",
   "metadata": {},
   "outputs": [],
   "source": [
    "import pybamm\n",
    "\n",
    "# Define RK OCP functions\n",
    "# Negative electrode OCP based on RK polynomial.\n",
    "def graphite_LGM50_ocp_Chen2020(sto):\n",
    "    coeffs = rk_polynomials[0]\n",
    "    return sum(c * sto * (1 - sto)**i for i, c in enumerate(coeffs[1:]))+coeffs[0]\n",
    "\n",
    "# Positive electrode OCP based on RK polynomial\n",
    "def nmc_LGM50_ocp_Chen2020(sto):\n",
    "    coeffs = rk_polynomials[1]\n",
    "    return sum(c * sto * (1 - sto)**i for i, c in enumerate(coeffs[1:]))+coeffs[0]\n",
    "\n",
    "initial_soc = 0.5  # Default SOC for initial conditions\n",
    "initial_voltage = nmc_LGM50_ocp_Chen2020(initial_soc) - graphite_LGM50_ocp_Chen2020(initial_soc)\n",
    "print(f\"Initial Cell Voltage: {initial_voltage} V\")\n",
    "\n",
    "\n",
    "# Create PyBaMM model and parameter set\n",
    "model = pybamm.lithium_ion.DFN()  # Doyle-Fuller-Newman model\n",
    "parameter_values = get_parameter_values()\n",
    "parameter_values.update({\n",
    "    \"Negative electrode OCP [V]\" : graphite_LGM50_ocp_Chen2020,\n",
    "    \"Positive electrode OCP [V]\" : nmc_LGM50_ocp_Chen2020}, \n",
    "    check_already_exists=False)\n",
    "\n",
    "parameter_values.update({\n",
    "    # cathode-anode OCV for STO = 0, 1 respectively \n",
    "    \"Open-circuit voltage at 100% SOC [V]\" : parameter_values['Upper voltage cut-off [V]'],\n",
    "    # cathode-anode OCV for STO = 1, 0 respectively \n",
    "    \"Open-circuit voltage at 0% SOC [V]\" : parameter_values['Lower voltage cut-off [V]']}, \n",
    "    check_already_exists=False)\n",
    "\n",
    "# Create and solve the simulation\n",
    "# Set up the experiment for 1C constant current discharge\n",
    "experiment = pybamm.Experiment([\n",
    "    \"Discharge at 1C until 2.5V\"\n",
    "])\n",
    "\n",
    "simulation = pybamm.Simulation(model, parameter_values=parameter_values, experiment=experiment)\n",
    "solution = simulation.solve()\n",
    "\n",
    "# Plot the results\n",
    "simulation.plot()\n"
   ]
  },
  {
   "cell_type": "code",
   "execution_count": null,
   "id": "e4137313",
   "metadata": {},
   "outputs": [],
   "source": [
    "pybamm.__version__"
   ]
  },
  {
   "cell_type": "markdown",
   "id": "f3d87ad4",
   "metadata": {},
   "source": [
    "Part 4"
   ]
  },
  {
   "cell_type": "code",
   "execution_count": null,
   "id": "34ce42a7",
   "metadata": {},
   "outputs": [],
   "source": [
    "# Calculate total energy, peak power, and required cells for EVTOL.\n",
    "def calculate_battery_metrics(file_path, cell_energy_wh, cell_power_w):\n",
    "    # Load data\n",
    "    data = pd.read_csv(file_path)\n",
    "    time = data['Times']  # Assuming time in seconds\n",
    "    power = data['PowerkW']  # Assuming power in kW\n",
    "\n",
    "    # Calculate total energy required (kWh)\n",
    "    total_energy_kwh = np.trapz(power, time) / 3600  # Convert Ws to kWh\n",
    "\n",
    "    # Calculate peak power (kW)\n",
    "    peak_power_kw = max(power)\n",
    "\n",
    "    # Calculate required cells for energy\n",
    "    total_cells_energy = total_energy_kwh * 1000 / cell_energy_wh\n",
    "\n",
    "    # Calculate required cells for peak power\n",
    "    total_cells_power = peak_power_kw * 1000 / cell_power_w\n",
    "\n",
    "    return total_energy_kwh, peak_power_kw, total_cells_energy, total_cells_power\n",
    "\n",
    "# Parameters for LGM50 cell\n",
    "cell_energy_wh = nom_E  # Energy per cell in Wh\n",
    "cell_power_w = spec_P*weight # Maximum power per cell in W\n",
    "\n",
    "# plotting function \n",
    "def plot_power_vs_time(evtol, file_path):\n",
    "    # Load data\n",
    "    data = pd.read_csv(file_path)\n",
    "    time = data['Times']  # Assuming time in seconds\n",
    "    power = data['PowerkW']  # Assuming power in kW\n",
    "\n",
    "    # Plot power vs. time\n",
    "    plt.plot(time, power, label=evtol)\n",
    "\n",
    "    plt.xlabel(\"Time (s)\")\n",
    "    plt.ylabel(\"Power (kW)\")\n",
    "    plt.title(\"Power vs Time for EVTOL Designs\")\n",
    "    plt.legend()\n",
    "    plt.grid(True)\n",
    "    plt.show()\n",
    "\n",
    "# EVTOL file paths\n",
    "evtol_files = {\n",
    "    \"Archer Maker\": \"C:/Users/hueyf/UMich/CMU_energy_storage_HW5/powerprofiles/Archer_Maker.csv\",\n",
    "    \"Beta Alia\": \"C:/Users/hueyf/UMich/CMU_energy_storage_HW5/powerprofiles/Beta_Alia.csv\",\n",
    "    \"Joby 5-seater\": \"C:/Users/hueyf/UMich/CMU_energy_storage_HW5/powerprofiles/Joby_5seater.csv\",\n",
    "    \"KH Heaviside\": \"C:/Users/hueyf/UMich/CMU_energy_storage_HW5/powerprofiles/KH_Heaviside.csv\",\n",
    "    \"Lilium Jet\": \"C:/Users/hueyf/UMich/CMU_energy_storage_HW5/powerprofiles/Lilium_Jet.csv\"\n",
    "}\n",
    "\n",
    "beta_alia_cells = 0\n",
    "for evtol, file_path in evtol_files.items():\n",
    "\n",
    "    total_energy_kwh, peak_power_kw, total_cells_energy, total_cells_power = calculate_battery_metrics(file_path, cell_energy_wh, cell_power_w)\n",
    "    if evtol == \"Beta Alia\":   \n",
    "        beta_alia_cells = total_cells_energy\n",
    "    print(f\"EVTOL: {evtol}\")\n",
    "    # Plot power vs time\n",
    "    plot_power_vs_time(evtol, file_path)\n",
    "    print(f\"Total Energy Required: {total_energy_kwh:.2f} kWh\")\n",
    "    print(f\"Peak Power Required: {peak_power_kw:.2f} kW\")\n",
    "    print(f\"Cells Required for Energy: {total_cells_energy:.0f}\")\n",
    "    print(f\"Cells Required for Peak Power: {total_cells_power:.0f}\")\n",
    "    print(\"_________________________________________________________________________________________________\")"
   ]
  },
  {
   "cell_type": "markdown",
   "id": "c4cee314",
   "metadata": {},
   "source": [
    "Part 5"
   ]
  },
  {
   "cell_type": "code",
   "execution_count": null,
   "id": "d3c22768",
   "metadata": {},
   "outputs": [],
   "source": [
    "import math\n",
    "print(math.ceil(beta_alia_cells))"
   ]
  },
  {
   "cell_type": "code",
   "execution_count": null,
   "id": "347d9180",
   "metadata": {},
   "outputs": [],
   "source": [
    "# Create a PyBaMM experiment for an EVTOL mission using constant-power segments.\n",
    "def create_evtol_experiment(file_path, total_cells):\n",
    "    # Load EVTOL power profile\n",
    "    data = pd.read_csv(file_path)\n",
    "    time = data['Times']  # Assuming time in seconds\n",
    "    power = data['PowerkW']  # Assuming power in kW\n",
    "\n",
    "    # Calculate power per cell\n",
    "    power_per_cell = power / total_cells\n",
    "\n",
    "    # Break the mission into constant-power segments\n",
    "    mission_segments = []\n",
    "    for i in range(len(time) - 1):\n",
    "        duration_minutes = (time[i + 1] - time[i]) / 60  # Convert duration to minutes\n",
    "        power_kw = power_per_cell[i]*1e3\n",
    "        segment = f\"Discharge at {power_kw:.2f} W for {duration_minutes:.2f} minutes\"\n",
    "        mission_segments.append(segment)\n",
    "\n",
    "    # Create PyBaMM experiment\n",
    "    experiment = pybamm.Experiment(mission_segments)\n",
    "    return experiment\n",
    "\n",
    "\n",
    "experiment = create_evtol_experiment(\"C:/Users/hueyf/UMich/CMU_energy_storage_HW5/powerprofiles/Beta_Alia.csv\", math.ceil(beta_alia_cells))\n",
    "\n",
    "print(experiment)\n",
    "# Create simulation with the experiment\n",
    "simulation = pybamm.Simulation(model, parameter_values=parameter_values, experiment=experiment)\n",
    "solution = simulation.solve()\n",
    "\n",
    "# Plot the results\n",
    "simulation.plot()\n"
   ]
  },
  {
   "cell_type": "markdown",
   "id": "6646f4d7",
   "metadata": {},
   "source": []
  },
  {
   "cell_type": "markdown",
   "id": "1c850c66",
   "metadata": {},
   "source": [
    "Part 6"
   ]
  },
  {
   "cell_type": "code",
   "execution_count": null,
   "id": "b92a4c8b",
   "metadata": {},
   "outputs": [],
   "source": [
    "# Function to adjust the number of cells to complete the EVTOL mission\n",
    "def adjust_cells_for_mission(file_path, cell_energy_wh): \n",
    "    data = pd.read_csv(file_path)\n",
    "    time = data['Times']  # Assuming time in seconds\n",
    "    power = data['PowerkW']  # Assuming power in kW\n",
    "\n",
    "    # Calculate total energy required (kWh)\n",
    "    total_energy_kwh = np.trapz(power, time) / 3600  # Convert Ws to kWh\n",
    "\n",
    "    # Start with an estimated number of cells and adjust\n",
    "    estimated_cells = int(np.ceil(total_energy_kwh * 1000 / cell_energy_wh))\n",
    "    while True:\n",
    "        power_per_cell = power / estimated_cells\n",
    "        if all(power_per_cell * 1000 <= cell_energy_wh):  # Check if energy per cell is feasible\n",
    "            break\n",
    "        estimated_cells += 1\n",
    "\n",
    "    return estimated_cells\n",
    "\n",
    "# Create a PyBaMM experiment for an EVTOL mission using constant-power segments.\n",
    "def create_evtol_experiment(file_path, total_cells):\n",
    "    # Load EVTOL power profile\n",
    "    data = pd.read_csv(file_path)\n",
    "    time = data['Times']  # Assuming time in seconds\n",
    "    power = data['PowerkW']  # Assuming power in kW\n",
    "\n",
    "    # Calculate power per cell\n",
    "    power_per_cell = power / total_cells\n",
    "\n",
    "    # Break the mission into constant-power segments\n",
    "    mission_segments = []\n",
    "    for i in range(len(time) - 1):\n",
    "        duration_minutes = (time[i + 1] - time[i]) / 60  # Convert duration to minutes\n",
    "        power_kw = power_per_cell[i]*1e3\n",
    "        segment = f\"Discharge at {power_kw:.2f} W for {duration_minutes:.2f} minutes\"\n",
    "        mission_segments.append(segment)\n",
    "\n",
    "    # Create PyBaMM experiment\n",
    "    experiment = pybamm.Experiment(mission_segments)\n",
    "    return experiment\n",
    "\n",
    "beta_alia_cells = adjust_cells_for_mission(\"C:/Users/hueyf/UMich/CMU_energy_storage_HW5/powerprofiles/Beta_Alia.csv\", cell_energy_wh)\n",
    "experiment = create_evtol_experiment(\"C:/Users/hueyf/UMich/CMU_energy_storage_HW5/powerprofiles/Beta_Alia.csv\", math.ceil(beta_alia_cells))\n",
    "\n",
    "print(experiment)\n",
    "# Create simulation with the experiment\n",
    "simulation = pybamm.Simulation(model, parameter_values=parameter_values, experiment=experiment)\n",
    "solution = simulation.solve()\n",
    "\n",
    "# Plot the results\n",
    "simulation.plot()"
   ]
  },
  {
   "cell_type": "markdown",
   "id": "448b48b2",
   "metadata": {},
   "source": [
    "Part 7"
   ]
  },
  {
   "cell_type": "markdown",
   "id": "bb174fd9",
   "metadata": {},
   "source": [
    "Part 8"
   ]
  },
  {
   "cell_type": "markdown",
   "id": "c0ece685",
   "metadata": {},
   "source": [
    "Part 9"
   ]
  },
  {
   "cell_type": "markdown",
   "id": "ed0d13cc",
   "metadata": {},
   "source": [
    "Part 10"
   ]
  },
  {
   "cell_type": "markdown",
   "id": "f5a34be0",
   "metadata": {},
   "source": [
    "Part 11"
   ]
  },
  {
   "cell_type": "markdown",
   "id": "a044588c",
   "metadata": {},
   "source": []
  }
 ],
 "metadata": {
  "kernelspec": {
   "display_name": ".venv",
   "language": "python",
   "name": "python3"
  },
  "language_info": {
   "codemirror_mode": {
    "name": "ipython",
    "version": 3
   },
   "file_extension": ".py",
   "mimetype": "text/x-python",
   "name": "python",
   "nbconvert_exporter": "python",
   "pygments_lexer": "ipython3",
   "version": "3.12.6"
  },
  "toc": {
   "base_numbering": 1,
   "nav_menu": {},
   "number_sections": true,
   "sideBar": true,
   "skip_h1_title": false,
   "title_cell": "Table of Contents",
   "title_sidebar": "Contents",
   "toc_cell": false,
   "toc_position": {},
   "toc_section_display": true,
   "toc_window_display": true
  }
 },
 "nbformat": 4,
 "nbformat_minor": 5
}
